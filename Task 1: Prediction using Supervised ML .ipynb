{
  "nbformat": 4,
  "nbformat_minor": 0,
  "metadata": {
    "colab": {
      "name": "Task 1: Prediction using Supervised ML .ipynb",
      "provenance": [],
      "authorship_tag": "ABX9TyPasqwE7vUPetfoigJiVyeg",
      "include_colab_link": true
    },
    "kernelspec": {
      "name": "python3",
      "display_name": "Python 3"
    },
    "language_info": {
      "name": "python"
    }
  },
  "cells": [
    {
      "cell_type": "markdown",
      "metadata": {
        "id": "view-in-github",
        "colab_type": "text"
      },
      "source": [
        "<a href=\"https://colab.research.google.com/github/talha-amir/Sparks-Foundation/blob/main/Task%201%3A%20Prediction%20using%20Supervised%20ML%20.ipynb\" target=\"_parent\"><img src=\"https://colab.research.google.com/assets/colab-badge.svg\" alt=\"Open In Colab\"/></a>"
      ]
    },
    {
      "cell_type": "markdown",
      "metadata": {
        "id": "oXmijNbK0Sbh"
      },
      "source": [
        "# Task 01:\n",
        "\n",
        "**Goal : Predict the percentage of an student based on the no. of study hours.**\n",
        "\n",
        "Data Set: http://bit.ly/w-data"
      ]
    },
    {
      "cell_type": "markdown",
      "metadata": {
        "id": "Znbb0Wfl1TIv"
      },
      "source": [
        "Importing the required modules"
      ]
    },
    {
      "cell_type": "code",
      "metadata": {
        "id": "Iwa9bhSj0spo"
      },
      "source": [
        "import pandas as pd\n",
        "import numpy as np\n",
        "import matplotlib.pyplot as plt\n",
        "import seaborn as sns\n",
        "from sklearn.linear_model import LinearRegression\n",
        "from sklearn.model_selection import train_test_split\n",
        "from sklearn.metrics import mean_absolute_error,mean_squared_error,explained_variance_score\n",
        "from requests import get"
      ],
      "execution_count": null,
      "outputs": []
    },
    {
      "cell_type": "markdown",
      "metadata": {
        "id": "rsIi-0G31oIp"
      },
      "source": [
        "Step 1: Loading the data set"
      ]
    },
    {
      "cell_type": "code",
      "metadata": {
        "id": "i5_3aAZN1rLW",
        "colab": {
          "base_uri": "https://localhost:8080/",
          "height": 203
        },
        "outputId": "255b5d81-756f-4239-f5a3-812e9d8ffb82"
      },
      "source": [
        "data = pd.read_csv(\"https://raw.githubusercontent.com/AdiPersonalWorks/Random/master/student_scores%20-%20student_scores.csv\")\n",
        "# checking the head of the data\n",
        "data.head()"
      ],
      "execution_count": null,
      "outputs": [
        {
          "output_type": "execute_result",
          "data": {
            "text/html": [
              "<div>\n",
              "<style scoped>\n",
              "    .dataframe tbody tr th:only-of-type {\n",
              "        vertical-align: middle;\n",
              "    }\n",
              "\n",
              "    .dataframe tbody tr th {\n",
              "        vertical-align: top;\n",
              "    }\n",
              "\n",
              "    .dataframe thead th {\n",
              "        text-align: right;\n",
              "    }\n",
              "</style>\n",
              "<table border=\"1\" class=\"dataframe\">\n",
              "  <thead>\n",
              "    <tr style=\"text-align: right;\">\n",
              "      <th></th>\n",
              "      <th>Hours</th>\n",
              "      <th>Scores</th>\n",
              "    </tr>\n",
              "  </thead>\n",
              "  <tbody>\n",
              "    <tr>\n",
              "      <th>0</th>\n",
              "      <td>2.5</td>\n",
              "      <td>21</td>\n",
              "    </tr>\n",
              "    <tr>\n",
              "      <th>1</th>\n",
              "      <td>5.1</td>\n",
              "      <td>47</td>\n",
              "    </tr>\n",
              "    <tr>\n",
              "      <th>2</th>\n",
              "      <td>3.2</td>\n",
              "      <td>27</td>\n",
              "    </tr>\n",
              "    <tr>\n",
              "      <th>3</th>\n",
              "      <td>8.5</td>\n",
              "      <td>75</td>\n",
              "    </tr>\n",
              "    <tr>\n",
              "      <th>4</th>\n",
              "      <td>3.5</td>\n",
              "      <td>30</td>\n",
              "    </tr>\n",
              "  </tbody>\n",
              "</table>\n",
              "</div>"
            ],
            "text/plain": [
              "   Hours  Scores\n",
              "0    2.5      21\n",
              "1    5.1      47\n",
              "2    3.2      27\n",
              "3    8.5      75\n",
              "4    3.5      30"
            ]
          },
          "metadata": {
            "tags": []
          },
          "execution_count": 2
        }
      ]
    },
    {
      "cell_type": "code",
      "metadata": {
        "colab": {
          "base_uri": "https://localhost:8080/",
          "height": 203
        },
        "id": "6rEtMPR1ibse",
        "outputId": "1925901e-df7f-490c-8c94-66a68d2c4e8c"
      },
      "source": [
        "# checking the tail of the data\n",
        "data.tail()"
      ],
      "execution_count": null,
      "outputs": [
        {
          "output_type": "execute_result",
          "data": {
            "text/html": [
              "<div>\n",
              "<style scoped>\n",
              "    .dataframe tbody tr th:only-of-type {\n",
              "        vertical-align: middle;\n",
              "    }\n",
              "\n",
              "    .dataframe tbody tr th {\n",
              "        vertical-align: top;\n",
              "    }\n",
              "\n",
              "    .dataframe thead th {\n",
              "        text-align: right;\n",
              "    }\n",
              "</style>\n",
              "<table border=\"1\" class=\"dataframe\">\n",
              "  <thead>\n",
              "    <tr style=\"text-align: right;\">\n",
              "      <th></th>\n",
              "      <th>Hours</th>\n",
              "      <th>Scores</th>\n",
              "    </tr>\n",
              "  </thead>\n",
              "  <tbody>\n",
              "    <tr>\n",
              "      <th>20</th>\n",
              "      <td>2.7</td>\n",
              "      <td>30</td>\n",
              "    </tr>\n",
              "    <tr>\n",
              "      <th>21</th>\n",
              "      <td>4.8</td>\n",
              "      <td>54</td>\n",
              "    </tr>\n",
              "    <tr>\n",
              "      <th>22</th>\n",
              "      <td>3.8</td>\n",
              "      <td>35</td>\n",
              "    </tr>\n",
              "    <tr>\n",
              "      <th>23</th>\n",
              "      <td>6.9</td>\n",
              "      <td>76</td>\n",
              "    </tr>\n",
              "    <tr>\n",
              "      <th>24</th>\n",
              "      <td>7.8</td>\n",
              "      <td>86</td>\n",
              "    </tr>\n",
              "  </tbody>\n",
              "</table>\n",
              "</div>"
            ],
            "text/plain": [
              "    Hours  Scores\n",
              "20    2.7      30\n",
              "21    4.8      54\n",
              "22    3.8      35\n",
              "23    6.9      76\n",
              "24    7.8      86"
            ]
          },
          "metadata": {
            "tags": []
          },
          "execution_count": 3
        }
      ]
    },
    {
      "cell_type": "markdown",
      "metadata": {
        "id": "bCkk9SbqjRBb"
      },
      "source": [
        "Observing the data"
      ]
    },
    {
      "cell_type": "code",
      "metadata": {
        "id": "06h9OT9z17l9",
        "colab": {
          "base_uri": "https://localhost:8080/"
        },
        "outputId": "fe64c6f3-25cb-42af-b8d3-30d957c57fa1"
      },
      "source": [
        "data.info()"
      ],
      "execution_count": null,
      "outputs": [
        {
          "output_type": "stream",
          "text": [
            "<class 'pandas.core.frame.DataFrame'>\n",
            "RangeIndex: 25 entries, 0 to 24\n",
            "Data columns (total 2 columns):\n",
            " #   Column  Non-Null Count  Dtype  \n",
            "---  ------  --------------  -----  \n",
            " 0   Hours   25 non-null     float64\n",
            " 1   Scores  25 non-null     int64  \n",
            "dtypes: float64(1), int64(1)\n",
            "memory usage: 528.0 bytes\n"
          ],
          "name": "stdout"
        }
      ]
    },
    {
      "cell_type": "markdown",
      "metadata": {
        "id": "qUnbuj6mi5T6"
      },
      "source": [
        "Observing the range of values, max, min etc"
      ]
    },
    {
      "cell_type": "code",
      "metadata": {
        "colab": {
          "base_uri": "https://localhost:8080/",
          "height": 295
        },
        "id": "6lrwuRDiieZd",
        "outputId": "f89a7057-9f49-4a87-9eb8-43e167fe432d"
      },
      "source": [
        "data.describe()"
      ],
      "execution_count": null,
      "outputs": [
        {
          "output_type": "execute_result",
          "data": {
            "text/html": [
              "<div>\n",
              "<style scoped>\n",
              "    .dataframe tbody tr th:only-of-type {\n",
              "        vertical-align: middle;\n",
              "    }\n",
              "\n",
              "    .dataframe tbody tr th {\n",
              "        vertical-align: top;\n",
              "    }\n",
              "\n",
              "    .dataframe thead th {\n",
              "        text-align: right;\n",
              "    }\n",
              "</style>\n",
              "<table border=\"1\" class=\"dataframe\">\n",
              "  <thead>\n",
              "    <tr style=\"text-align: right;\">\n",
              "      <th></th>\n",
              "      <th>Hours</th>\n",
              "      <th>Scores</th>\n",
              "    </tr>\n",
              "  </thead>\n",
              "  <tbody>\n",
              "    <tr>\n",
              "      <th>count</th>\n",
              "      <td>25.000000</td>\n",
              "      <td>25.000000</td>\n",
              "    </tr>\n",
              "    <tr>\n",
              "      <th>mean</th>\n",
              "      <td>5.012000</td>\n",
              "      <td>51.480000</td>\n",
              "    </tr>\n",
              "    <tr>\n",
              "      <th>std</th>\n",
              "      <td>2.525094</td>\n",
              "      <td>25.286887</td>\n",
              "    </tr>\n",
              "    <tr>\n",
              "      <th>min</th>\n",
              "      <td>1.100000</td>\n",
              "      <td>17.000000</td>\n",
              "    </tr>\n",
              "    <tr>\n",
              "      <th>25%</th>\n",
              "      <td>2.700000</td>\n",
              "      <td>30.000000</td>\n",
              "    </tr>\n",
              "    <tr>\n",
              "      <th>50%</th>\n",
              "      <td>4.800000</td>\n",
              "      <td>47.000000</td>\n",
              "    </tr>\n",
              "    <tr>\n",
              "      <th>75%</th>\n",
              "      <td>7.400000</td>\n",
              "      <td>75.000000</td>\n",
              "    </tr>\n",
              "    <tr>\n",
              "      <th>max</th>\n",
              "      <td>9.200000</td>\n",
              "      <td>95.000000</td>\n",
              "    </tr>\n",
              "  </tbody>\n",
              "</table>\n",
              "</div>"
            ],
            "text/plain": [
              "           Hours     Scores\n",
              "count  25.000000  25.000000\n",
              "mean    5.012000  51.480000\n",
              "std     2.525094  25.286887\n",
              "min     1.100000  17.000000\n",
              "25%     2.700000  30.000000\n",
              "50%     4.800000  47.000000\n",
              "75%     7.400000  75.000000\n",
              "max     9.200000  95.000000"
            ]
          },
          "metadata": {
            "tags": []
          },
          "execution_count": 5
        }
      ]
    },
    {
      "cell_type": "markdown",
      "metadata": {
        "id": "hHaupOhIi1Me"
      },
      "source": [
        "Reducing data Size ( converting int64 to int8 and float)"
      ]
    },
    {
      "cell_type": "code",
      "metadata": {
        "id": "ZaTC0sQ-3IZ-"
      },
      "source": [
        "data['Scores'] = pd.to_numeric(data['Scores'], downcast='integer')\n",
        "data['Hours'] = pd.to_numeric(data['Hours'], downcast='float')"
      ],
      "execution_count": null,
      "outputs": []
    },
    {
      "cell_type": "markdown",
      "metadata": {
        "id": "s4LVyBPzi8Vo"
      },
      "source": [
        "Memory usuage reduced from 528.0 bytes till 253.0 bytes"
      ]
    },
    {
      "cell_type": "code",
      "metadata": {
        "id": "mA-NghV64HQl",
        "colab": {
          "base_uri": "https://localhost:8080/"
        },
        "outputId": "11463199-6a3f-473f-83cd-13eb9548767f"
      },
      "source": [
        "data.info()"
      ],
      "execution_count": null,
      "outputs": [
        {
          "output_type": "stream",
          "text": [
            "<class 'pandas.core.frame.DataFrame'>\n",
            "RangeIndex: 25 entries, 0 to 24\n",
            "Data columns (total 2 columns):\n",
            " #   Column  Non-Null Count  Dtype  \n",
            "---  ------  --------------  -----  \n",
            " 0   Hours   25 non-null     float32\n",
            " 1   Scores  25 non-null     int8   \n",
            "dtypes: float32(1), int8(1)\n",
            "memory usage: 253.0 bytes\n"
          ],
          "name": "stdout"
        }
      ]
    },
    {
      "cell_type": "markdown",
      "metadata": {
        "id": "Mg31eATni-kn"
      },
      "source": [
        "Checking for null values in data set"
      ]
    },
    {
      "cell_type": "code",
      "metadata": {
        "id": "1Nwzdows4aT1",
        "colab": {
          "base_uri": "https://localhost:8080/",
          "height": 282
        },
        "outputId": "784840ac-7163-48b9-b13e-15cdfc0fc643"
      },
      "source": [
        "\n",
        "sns.heatmap(data.isnull(),cmap=\"hot\",cbar=False)"
      ],
      "execution_count": null,
      "outputs": [
        {
          "output_type": "execute_result",
          "data": {
            "text/plain": [
              "<matplotlib.axes._subplots.AxesSubplot at 0x7f1eda49b110>"
            ]
          },
          "metadata": {
            "tags": []
          },
          "execution_count": 8
        },
        {
          "output_type": "display_data",
          "data": {
            "image/png": "[encoded data removed]",
            "text/plain": [
              "<Figure size 432x288 with 1 Axes>"
            ]
          },
          "metadata": {
            "tags": [],
            "needs_background": "light"
          }
        }
      ]
    },
    {
      "cell_type": "markdown",
      "metadata": {
        "id": "7zsvdCj28IHm"
      },
      "source": [
        "No null values found !!"
      ]
    },
    {
      "cell_type": "markdown",
      "metadata": {
        "id": "SWe6FMw2jBQ_"
      },
      "source": [
        "Using Seaborn's Scatterplot to observe the data"
      ]
    },
    {
      "cell_type": "code",
      "metadata": {
        "id": "U6cxdBCiA8-3",
        "colab": {
          "base_uri": "https://localhost:8080/",
          "height": 296
        },
        "outputId": "4ef020c0-4612-4e41-b079-c549ae6aa424"
      },
      "source": [
        "sns.scatterplot(y=data['Scores'],x=data['Hours'])"
      ],
      "execution_count": null,
      "outputs": [
        {
          "output_type": "execute_result",
          "data": {
            "text/plain": [
              "<matplotlib.axes._subplots.AxesSubplot at 0x7f1ed0f7dfd0>"
            ]
          },
          "metadata": {
            "tags": []
          },
          "execution_count": 9
        },
        {
          "output_type": "display_data",
          "data": {
            "image/png": "[encoded data removed]",
            "text/plain": [
              "<Figure size 432x288 with 1 Axes>"
            ]
          },
          "metadata": {
            "tags": [],
            "needs_background": "light"
          }
        }
      ]
    },
    {
      "cell_type": "code",
      "metadata": {
        "id": "Yzl3QtkB8J9U"
      },
      "source": [
        "# Feature Variable\n",
        "x = data.iloc[:,:-1]\n",
        "# Target Varaible\n",
        "y = data.iloc[:,1]\n",
        "\n",
        "# Train Test split rattion 67 : 33\n",
        "X_train, X_test, y_train, y_test = train_test_split(x, y, test_size=0.33)"
      ],
      "execution_count": null,
      "outputs": []
    },
    {
      "cell_type": "markdown",
      "metadata": {
        "id": "JqDTAeWw_Pqu"
      },
      "source": [
        "Training the model"
      ]
    },
    {
      "cell_type": "code",
      "metadata": {
        "id": "rU-I_h94_JOu"
      },
      "source": [
        "model = LinearRegression().fit(X_train,y_train)"
      ],
      "execution_count": null,
      "outputs": []
    },
    {
      "cell_type": "code",
      "metadata": {
        "id": "Y2RufJXp_aZT",
        "colab": {
          "base_uri": "https://localhost:8080/"
        },
        "outputId": "033d9105-f7a2-4952-b943-e95a4447c998"
      },
      "source": [
        "model.coef_"
      ],
      "execution_count": null,
      "outputs": [
        {
          "output_type": "execute_result",
          "data": {
            "text/plain": [
              "array([9.542802], dtype=float32)"
            ]
          },
          "metadata": {
            "tags": []
          },
          "execution_count": 12
        }
      ]
    },
    {
      "cell_type": "code",
      "metadata": {
        "id": "ris_PpyhB9Sk",
        "colab": {
          "base_uri": "https://localhost:8080/"
        },
        "outputId": "f6fda4f7-c4c2-43ed-b641-72ad956061fb"
      },
      "source": [
        "model.intercept_"
      ],
      "execution_count": null,
      "outputs": [
        {
          "output_type": "execute_result",
          "data": {
            "text/plain": [
              "2.763134"
            ]
          },
          "metadata": {
            "tags": []
          },
          "execution_count": 13
        }
      ]
    },
    {
      "cell_type": "markdown",
      "metadata": {
        "id": "_ALFUnwJCrhR"
      },
      "source": [
        "Two methods for plotting the regression line\n",
        "1. Using Matplot lib\n",
        "2. Using Seaborn\n",
        "\n",
        "**Using Matplotlib :**"
      ]
    },
    {
      "cell_type": "code",
      "metadata": {
        "id": "M2MX5qkNCADr"
      },
      "source": [
        "# Equation is \"\"\"y = mx + c\"\"\"\n",
        "linear_model = (model.coef_*x)+model.intercept_  "
      ],
      "execution_count": null,
      "outputs": []
    },
    {
      "cell_type": "code",
      "metadata": {
        "id": "MH1-5HwuCZJC",
        "colab": {
          "base_uri": "https://localhost:8080/",
          "height": 295
        },
        "outputId": "c0e4861b-2e75-4643-fabd-e329c41cca3c"
      },
      "source": [
        "plt.scatter(x,y)\n",
        "plt.plot(x,linear_model)\n",
        "plt.title(\"Linear Regression Model\") \n",
        "plt.xlabel(\"Hours\") \n",
        "plt.ylabel(\"Scores\")\n",
        "plt.show()"
      ],
      "execution_count": null,
      "outputs": [
        {
          "output_type": "display_data",
          "data": {
            "image/png": "[encoded data removed]",
            "text/plain": [
              "<Figure size 432x288 with 1 Axes>"
            ]
          },
          "metadata": {
            "tags": [],
            "needs_background": "light"
          }
        }
      ]
    },
    {
      "cell_type": "markdown",
      "metadata": {
        "id": "o0JFq17-DxOh"
      },
      "source": [
        "**Using Seaborn:**"
      ]
    },
    {
      "cell_type": "code",
      "metadata": {
        "id": "UjPidEC0CaKS",
        "colab": {
          "base_uri": "https://localhost:8080/",
          "height": 296
        },
        "outputId": "8c4085d9-5509-498e-fc14-d523cf30a66a"
      },
      "source": [
        "sns.regplot(x=X_train,y=y_train)"
      ],
      "execution_count": null,
      "outputs": [
        {
          "output_type": "execute_result",
          "data": {
            "text/plain": [
              "<matplotlib.axes._subplots.AxesSubplot at 0x7f1ecfc210d0>"
            ]
          },
          "metadata": {
            "tags": []
          },
          "execution_count": 16
        },
        {
          "output_type": "display_data",
          "data": {
            "image/png": "[encoded data removed]",
            "text/plain": [
              "<Figure size 432x288 with 1 Axes>"
            ]
          },
          "metadata": {
            "tags": [],
            "needs_background": "light"
          }
        }
      ]
    },
    {
      "cell_type": "markdown",
      "metadata": {
        "id": "Y19G66cZEilk"
      },
      "source": [
        "**Predicting Values:**"
      ]
    },
    {
      "cell_type": "code",
      "metadata": {
        "id": "CfxxR1-yD29K",
        "colab": {
          "base_uri": "https://localhost:8080/"
        },
        "outputId": "84f06be5-689f-4edf-ded4-07d07d92a1c0"
      },
      "source": [
        "predictions =  model.predict(X_test)\n",
        "predictions"
      ],
      "execution_count": null,
      "outputs": [
        {
          "output_type": "execute_result",
          "data": {
            "text/plain": [
              "array([55.248543, 26.620138, 73.37987 , 87.69406 , 76.24271 , 45.70574 ,\n",
              "       34.25438 , 48.568584, 17.077337], dtype=float32)"
            ]
          },
          "metadata": {
            "tags": []
          },
          "execution_count": 17
        }
      ]
    },
    {
      "cell_type": "markdown",
      "metadata": {
        "id": "rk1PWx60FtPt"
      },
      "source": [
        "**Model Accuracy:**"
      ]
    },
    {
      "cell_type": "code",
      "metadata": {
        "id": "CZuHooNMFwh5",
        "colab": {
          "base_uri": "https://localhost:8080/"
        },
        "outputId": "b35a7acd-7978-4d80-f72a-bef0c2d33057"
      },
      "source": [
        "explained_variance_score(predictions,y_test)*100"
      ],
      "execution_count": null,
      "outputs": [
        {
          "output_type": "execute_result",
          "data": {
            "text/plain": [
              "94.10328269004822"
            ]
          },
          "metadata": {
            "tags": []
          },
          "execution_count": 18
        }
      ]
    },
    {
      "cell_type": "markdown",
      "metadata": {
        "id": "WF8tlK4qGyc_"
      },
      "source": [
        "**Predicting the Given Value: Hour = 9.25** "
      ]
    },
    {
      "cell_type": "code",
      "metadata": {
        "id": "4Z7OSXZDG45R",
        "colab": {
          "base_uri": "https://localhost:8080/"
        },
        "outputId": "599f2035-ad53-4848-dccf-ffe36102ef9c"
      },
      "source": [
        "print(\"Hours = 9.25 \\nPredicted Score: \",end=\"\")\n",
        "model.predict(np.array(9.25).reshape(1,-1))[0]"
      ],
      "execution_count": null,
      "outputs": [
        {
          "output_type": "stream",
          "text": [
            "Hours = 9.25 \n",
            "Predicted Score: "
          ],
          "name": "stdout"
        },
        {
          "output_type": "execute_result",
          "data": {
            "text/plain": [
              "91.03405117988586"
            ]
          },
          "metadata": {
            "tags": []
          },
          "execution_count": 19
        }
      ]
    }
  ]
}